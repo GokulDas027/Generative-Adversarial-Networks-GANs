{
  "nbformat": 4,
  "nbformat_minor": 0,
  "metadata": {
    "colab": {
      "name": "Face Generator.ipynb",
      "version": "0.3.2",
      "provenance": [],
      "collapsed_sections": [],
      "include_colab_link": true
    },
    "kernelspec": {
      "name": "python3",
      "display_name": "Python 3"
    },
    "accelerator": "GPU"
  },
  "cells": [
    {
      "cell_type": "markdown",
      "metadata": {
        "id": "view-in-github",
        "colab_type": "text"
      },
      "source": [
        "<a href=\"https://colab.research.google.com/github/GokulDas027/Generative-Adversarial-Networks-GANs-/blob/master/Face_Generator.ipynb\" target=\"_parent\"><img src=\"https://colab.research.google.com/assets/colab-badge.svg\" alt=\"Open In Colab\"/></a>"
      ]
    },
    {
      "cell_type": "markdown",
      "metadata": {
        "id": "Qu1EQayTTBAL",
        "colab_type": "text"
      },
      "source": [
        "# Face Generation\n",
        "\n",
        "Face Generation using DCGAN"
      ]
    },
    {
      "cell_type": "code",
      "metadata": {
        "id": "o5ncQMTES52c",
        "colab_type": "code",
        "colab": {}
      },
      "source": [
        "import torch\n",
        "import numpy as np\n",
        "import pickle as pkl\n",
        "import matplotlib.pyplot as plt\n",
        "% matplotlib inline"
      ],
      "execution_count": 0,
      "outputs": []
    },
    {
      "cell_type": "code",
      "metadata": {
        "id": "hB0KqjvrTAwV",
        "colab_type": "code",
        "outputId": "3025e401-c4c8-4415-b42b-1ef26da3c1b5",
        "colab": {
          "base_uri": "https://localhost:8080/",
          "height": 35
        }
      },
      "source": [
        "train_on_gpu = torch.cuda.is_available()\n",
        "if train_on_gpu:\n",
        "  print(\"Training on GPU\")\n",
        "else:\n",
        "  print(\"Training NOT on GPU\")"
      ],
      "execution_count": 2,
      "outputs": [
        {
          "output_type": "stream",
          "text": [
            "Training on GPU\n"
          ],
          "name": "stdout"
        }
      ]
    },
    {
      "cell_type": "markdown",
      "metadata": {
        "id": "3PvNowtUUGfc",
        "colab_type": "text"
      },
      "source": [
        "## Collecting DATA\n",
        "\n",
        "We are using [CelebFaces Attributes Dataset (CelebA)](http://mmlab.ie.cuhk.edu.hk/projects/CelebA.html) to train the adversarial networks. This dataset contains over 200,000 celebrity images in RGB Color channel. \n",
        "\n",
        "It can be downloaded from [here](https://s3.amazonaws.com/video.udacity-data.com/topher/2018/November/5be7eb6f_processed-celeba-small/processed-celeba-small.zip).\n",
        "\n",
        "\n",
        "### Preprocessing\n",
        "Since we are building a GAN, Each of the CelebA images has been cropped to remove parts of the image that don't include a face, then resized down to 64x64x3 NumPy images."
      ]
    },
    {
      "cell_type": "code",
      "metadata": {
        "id": "wCC8laeBTmZn",
        "colab_type": "code",
        "outputId": "46154576-c057-4273-fffe-b5c9766e3e1f",
        "colab": {
          "base_uri": "https://localhost:8080/",
          "height": 237
        }
      },
      "source": [
        "!wget https://s3.amazonaws.com/video.udacity-data.com/topher/2018/November/5be7eb6f_processed-celeba-small/processed-celeba-small.zip"
      ],
      "execution_count": 3,
      "outputs": [
        {
          "output_type": "stream",
          "text": [
            "--2019-05-08 13:11:56--  https://s3.amazonaws.com/video.udacity-data.com/topher/2018/November/5be7eb6f_processed-celeba-small/processed-celeba-small.zip\n",
            "Resolving s3.amazonaws.com (s3.amazonaws.com)... 52.216.10.181\n",
            "Connecting to s3.amazonaws.com (s3.amazonaws.com)|52.216.10.181|:443... connected.\n",
            "HTTP request sent, awaiting response... 200 OK\n",
            "Length: 247694507 (236M) [application/zip]\n",
            "Saving to: ‘processed-celeba-small.zip’\n",
            "\n",
            "processed-celeba-sm 100%[===================>] 236.22M  35.1MB/s    in 7.3s    \n",
            "\n",
            "2019-05-08 13:12:04 (32.4 MB/s) - ‘processed-celeba-small.zip’ saved [247694507/247694507]\n",
            "\n"
          ],
          "name": "stdout"
        }
      ]
    },
    {
      "cell_type": "code",
      "metadata": {
        "id": "h6efHnwLXbnr",
        "colab_type": "code",
        "colab": {}
      },
      "source": [
        "from zipfile import ZipFile\n",
        "\n",
        "with ZipFile('processed-celeba-small.zip','r') as dataset:\n",
        "  dataset.extractall()"
      ],
      "execution_count": 0,
      "outputs": []
    },
    {
      "cell_type": "markdown",
      "metadata": {
        "id": "d0zfsoqUvVwr",
        "colab_type": "text"
      },
      "source": [
        "### Data Loader\n",
        "\n",
        "Defining a DataLoader for loading images into the network"
      ]
    },
    {
      "cell_type": "code",
      "metadata": {
        "id": "fhEU47MIX3n1",
        "colab_type": "code",
        "colab": {}
      },
      "source": [
        "from torchvision import datasets\n",
        "from torchvision import transforms"
      ],
      "execution_count": 0,
      "outputs": []
    },
    {
      "cell_type": "code",
      "metadata": {
        "id": "jzfc5H2MXfhD",
        "colab_type": "code",
        "colab": {}
      },
      "source": [
        "def get_dataloader(batch_size, image_size, data_dir='processed_celeba_small/'):\n",
        "  \n",
        "  data_transforms = transforms.Compose([transforms.Resize(image_size),\n",
        "                                       transforms.ToTensor(),\n",
        "                                       transforms.Normalize((0.5, 0.5, 0.5), (0.5, 0.5, 0.5))]) \n",
        "  \n",
        "  data = datasets.ImageFolder(data_dir, transform=data_transforms)\n",
        "  \n",
        "  data_loader = torch.utils.data.DataLoader(data, batch_size=batch_size)\n",
        "  \n",
        "  return data_loader"
      ],
      "execution_count": 0,
      "outputs": []
    },
    {
      "cell_type": "code",
      "metadata": {
        "id": "HYGrmr6lyAVe",
        "colab_type": "code",
        "colab": {}
      },
      "source": [
        "batch_size = 128\n",
        "img_size = 32\n",
        "\n",
        "celeba_train_dataloader = get_dataloader(batch_size, img_size)"
      ],
      "execution_count": 0,
      "outputs": []
    },
    {
      "cell_type": "markdown",
      "metadata": {
        "id": "L3PCjfn99qEw",
        "colab_type": "text"
      },
      "source": [
        "## View Image\n",
        "\n",
        "Let's Visualise Some Images from the Train Dataset"
      ]
    },
    {
      "cell_type": "code",
      "metadata": {
        "id": "PCU-Vsau4NB_",
        "colab_type": "code",
        "colab": {}
      },
      "source": [
        "def imshow(img):\n",
        "  npimg = img.numpy()\n",
        "  plt.imshow(np.transpose(npimg,(1,2,0)))"
      ],
      "execution_count": 0,
      "outputs": []
    },
    {
      "cell_type": "code",
      "metadata": {
        "id": "zIOvbZboClWM",
        "colab_type": "code",
        "outputId": "4cfaeeaf-0491-44c4-c9fb-2400debe8ecd",
        "colab": {
          "base_uri": "https://localhost:8080/",
          "height": 435
        }
      },
      "source": [
        "data_iter = iter(celeba_train_dataloader)\n",
        "images,_ = data_iter.next()\n",
        "\n",
        "plot_size = 10\n",
        "fig = plt.figure(figsize=(plot_size,4))\n",
        "\n",
        "for i in np.arange(plot_size):\n",
        "  ax = fig.add_subplot(2, plot_size/2, i+1, xticks=[], yticks=[])\n",
        "  imshow(images[i])"
      ],
      "execution_count": 7,
      "outputs": [
        {
          "output_type": "stream",
          "text": [
            "Clipping input data to the valid range for imshow with RGB data ([0..1] for floats or [0..255] for integers).\n",
            "Clipping input data to the valid range for imshow with RGB data ([0..1] for floats or [0..255] for integers).\n",
            "Clipping input data to the valid range for imshow with RGB data ([0..1] for floats or [0..255] for integers).\n",
            "Clipping input data to the valid range for imshow with RGB data ([0..1] for floats or [0..255] for integers).\n",
            "Clipping input data to the valid range for imshow with RGB data ([0..1] for floats or [0..255] for integers).\n",
            "Clipping input data to the valid range for imshow with RGB data ([0..1] for floats or [0..255] for integers).\n",
            "Clipping input data to the valid range for imshow with RGB data ([0..1] for floats or [0..255] for integers).\n",
            "Clipping input data to the valid range for imshow with RGB data ([0..1] for floats or [0..255] for integers).\n",
            "Clipping input data to the valid range for imshow with RGB data ([0..1] for floats or [0..255] for integers).\n",
            "Clipping input data to the valid range for imshow with RGB data ([0..1] for floats or [0..255] for integers).\n"
          ],
          "name": "stderr"
        },
        {
          "output_type": "display_data",
          "data": {
            "image/png": "[encoded data removed]",
            "text/plain": [
              "<Figure size 720x288 with 10 Axes>"
            ]
          },
          "metadata": {
            "tags": []
          }
        }
      ]
    },
    {
      "cell_type": "markdown",
      "metadata": {
        "id": "-gUApe6KGR35",
        "colab_type": "text"
      },
      "source": [
        "## Defining the Models\n"
      ]
    },
    {
      "cell_type": "markdown",
      "metadata": {
        "id": "aPnGeQS1HFO1",
        "colab_type": "text"
      },
      "source": [
        "### Discriminator Model  \n",
        "The Discriminator model is a Batch Normalised, Deep Covolutional Classifier without Pooling.\n",
        "\n",
        "* The inputs are 32x32x3 tensor images.\n",
        "* The output is a single value that will indicate whether a given image is real or fake."
      ]
    },
    {
      "cell_type": "code",
      "metadata": {
        "id": "ePCJ8LXvENRz",
        "colab_type": "code",
        "colab": {}
      },
      "source": [
        "import torch.nn as nn\n",
        "import torch.nn.functional as F\n",
        "\n",
        "def conv(in_channels, out_channels, kernel_size, stride=2, padding=1, batch_norm=True):\n",
        "  layers=[]\n",
        "  \n",
        "  conv_layer = nn.Conv2d(in_channels, out_channels, kernel_size, \n",
        "                         stride, padding, bias=False)\n",
        "  \n",
        "  layers.append(conv_layer)\n",
        "\n",
        "  if batch_norm:\n",
        "    layers.append(nn.BatchNorm2d(out_channels))\n",
        "    \n",
        "  return nn.Sequential(*layers)"
      ],
      "execution_count": 0,
      "outputs": []
    },
    {
      "cell_type": "code",
      "metadata": {
        "id": "uxBPswWPH0-Y",
        "colab_type": "code",
        "colab": {}
      },
      "source": [
        "class Discriminator(nn.Module):\n",
        "  def __init__(self, conv_dim=32):\n",
        "    super(Discriminator,self).__init__()\n",
        "    self.conv_dim = conv_dim\n",
        "    \n",
        "    # 32x32 --> 16x16\n",
        "    self.conv1 = conv(3, conv_dim, 4, batch_norm=False)\n",
        "    # 16x16 --> 8x8\n",
        "    self.conv2 = conv(conv_dim, conv_dim*2, 4)\n",
        "    # 8x8 --> 4x4\n",
        "    self.conv3 = conv(conv_dim*2, conv_dim*4, 4)\n",
        "    # Fully connected layer : flattened img(depth*height*width)\n",
        "    self.fc = nn.Linear(conv_dim*4*4*4, 1)\n",
        "    \n",
        "  def forward(self, x):\n",
        "    # Passing to Convolutional Network\n",
        "    out = F.leaky_relu(self.conv1(x), 0.2)\n",
        "    out = F.leaky_relu(self.conv2(out), 0.2)\n",
        "    out = F.leaky_relu(self.conv3(out), 0.2)\n",
        "    # Flattening\n",
        "    out = out.view(-1, self.conv_dim*4*4*4)\n",
        "    # Passing to Fully Connected Layer\n",
        "    out = self.fc(out)   \n",
        "    return out\n",
        "    "
      ],
      "execution_count": 0,
      "outputs": []
    },
    {
      "cell_type": "markdown",
      "metadata": {
        "id": "gb_dSY8mB25t",
        "colab_type": "text"
      },
      "source": [
        "### Generator Model\n",
        "It is a Batch Normalized DeConvolution Network to Upsample the Input and Generate new Images.\n",
        "*  The Generated Images have the same size as of our Training Images (32x32x3)\n",
        "* The inputs to the generator are vectors of some length z_size"
      ]
    },
    {
      "cell_type": "code",
      "metadata": {
        "id": "xwtJ817GEpUb",
        "colab_type": "code",
        "colab": {}
      },
      "source": [
        "def deconv(in_channels, out_channels, kernel_size, stride=2, padding=1, batch_norm=True):\n",
        "  layers=[]\n",
        "  \n",
        "  deconv_layer = nn.ConvTranspose2d(in_channels, out_channels, kernel_size, \n",
        "                         stride, padding, bias=False)\n",
        "  \n",
        "  layers.append(deconv_layer)\n",
        "\n",
        "  if batch_norm:\n",
        "    layers.append(nn.BatchNorm2d(out_channels))\n",
        "    \n",
        "  return nn.Sequential(*layers)"
      ],
      "execution_count": 0,
      "outputs": []
    },
    {
      "cell_type": "code",
      "metadata": {
        "id": "ea5yE100FI1u",
        "colab_type": "code",
        "colab": {}
      },
      "source": [
        "class Generator(nn.Module):\n",
        "  def __init__(self, z_size, conv_dim=32):\n",
        "    super(Generator, self).__init__()\n",
        "    self.conv_dim = conv_dim\n",
        "    \n",
        "    self.fc = nn.Linear(z_size,conv_dim*4*4*4)\n",
        "    # 4x4 --> 8x8\n",
        "    self.deconv1 = deconv(conv_dim*4, conv_dim*2, 4)\n",
        "    # 8x8 --> 16x16\n",
        "    self.deconv2 = deconv(conv_dim*2, conv_dim, 4)\n",
        "    # 16x16 --> 32x32\n",
        "    self.deconv3 = deconv(conv_dim, 3, 4, batch_norm=False)\n",
        "    \n",
        "  def forward(self, x):\n",
        "    # load x to fully connected layer\n",
        "    out = self.fc(x)\n",
        "    # transform linear to (batch_size,depth,height,width) dimension\n",
        "    out = out.view(-1,conv_dim*4,4,4) \n",
        "    # pass the transformed data to Deconv Network\n",
        "    out = F.relu(self.deconv1(out))\n",
        "    out = F.relu(self.deconv2(out))\n",
        "    out = F.tanh(self.deconv3(out))\n",
        "    return out"
      ],
      "execution_count": 0,
      "outputs": []
    },
    {
      "cell_type": "markdown",
      "metadata": {
        "id": "nJ8HELl4KK00",
        "colab_type": "text"
      },
      "source": [
        "## Initialise Weights to the Network\n",
        "We should initialize the Weights of the convolutional and linear layers in the model to help it converge.\n",
        "\n",
        "From the original DCGAN paper, they say:\n",
        "> #### All weights were initialized from a zero-centered Normal distribution with standard deviation 0.02.\n",
        "\n"
      ]
    },
    {
      "cell_type": "code",
      "metadata": {
        "id": "Bz8TC101RaXd",
        "colab_type": "code",
        "colab": {}
      },
      "source": [
        "from torch.nn import init\n",
        "\n",
        "def weights_init_normal(m):\n",
        "  classname = m.__class__.__name__\n",
        "  if hasattr(m, 'weight') and (classname.find('Conv') != -1 or classname.find('Linear') != -1):\n",
        "    init.normal_(m.weight.data, 0.0, 0.02)\n",
        "    if hasattr(m, 'bias') and m.bias is not None:\n",
        "      init.constant_(m.bias.data, 0.0)\n",
        "  elif classname.find('BatchNorm2d') != -1:  # BatchNorm Layer's weight is not a matrix; only normal distribution applies.\n",
        "    init.normal_(m.weight.data, 1.0, 0.02)\n",
        "    init.constant_(m.bias.data, 0.0)"
      ],
      "execution_count": 0,
      "outputs": []
    },
    {
      "cell_type": "markdown",
      "metadata": {
        "id": "Iuk6Ox-0UHxl",
        "colab_type": "text"
      },
      "source": [
        "## Building the Complete network"
      ]
    },
    {
      "cell_type": "code",
      "metadata": {
        "id": "41HeDAD_UBxm",
        "colab_type": "code",
        "colab": {}
      },
      "source": [
        "def build_network(conv_dim, z_size):\n",
        "\n",
        "  D = Discriminator(conv_dim)\n",
        "  G = Generator(z_size=z_size, conv_dim=conv_dim)\n",
        "\n",
        "  # initialize model weights\n",
        "  D.apply(weights_init_normal)\n",
        "  G.apply(weights_init_normal)\n",
        "\n",
        "  print(D)\n",
        "  print()\n",
        "  print(G)\n",
        "\n",
        "  return D, G"
      ],
      "execution_count": 0,
      "outputs": []
    },
    {
      "cell_type": "code",
      "metadata": {
        "id": "0jZQ6xAtUqgL",
        "colab_type": "code",
        "outputId": "a3083843-047b-4bb1-f87c-03bd07337d6c",
        "colab": {
          "base_uri": "https://localhost:8080/",
          "height": 563
        }
      },
      "source": [
        "conv_dim = 32\n",
        "z_size = 100\n",
        "\n",
        "D, G = build_network(conv_dim, z_size)\n",
        "\n",
        "if train_on_gpu:\n",
        "  D.cuda()\n",
        "  G.cuda()\n",
        "  print(\"Model moved to GPU\")\n",
        "else:\n",
        "  print(\"Model in CPU\")"
      ],
      "execution_count": 14,
      "outputs": [
        {
          "output_type": "stream",
          "text": [
            "Discriminator(\n",
            "  (conv1): Sequential(\n",
            "    (0): Conv2d(3, 32, kernel_size=(4, 4), stride=(2, 2), padding=(1, 1), bias=False)\n",
            "  )\n",
            "  (conv2): Sequential(\n",
            "    (0): Conv2d(32, 64, kernel_size=(4, 4), stride=(2, 2), padding=(1, 1), bias=False)\n",
            "    (1): BatchNorm2d(64, eps=1e-05, momentum=0.1, affine=True, track_running_stats=True)\n",
            "  )\n",
            "  (conv3): Sequential(\n",
            "    (0): Conv2d(64, 128, kernel_size=(4, 4), stride=(2, 2), padding=(1, 1), bias=False)\n",
            "    (1): BatchNorm2d(128, eps=1e-05, momentum=0.1, affine=True, track_running_stats=True)\n",
            "  )\n",
            "  (fc): Linear(in_features=2048, out_features=1, bias=True)\n",
            ")\n",
            "\n",
            "Generator(\n",
            "  (fc): Linear(in_features=100, out_features=2048, bias=True)\n",
            "  (deconv1): Sequential(\n",
            "    (0): ConvTranspose2d(128, 64, kernel_size=(4, 4), stride=(2, 2), padding=(1, 1), bias=False)\n",
            "    (1): BatchNorm2d(64, eps=1e-05, momentum=0.1, affine=True, track_running_stats=True)\n",
            "  )\n",
            "  (deconv2): Sequential(\n",
            "    (0): ConvTranspose2d(64, 32, kernel_size=(4, 4), stride=(2, 2), padding=(1, 1), bias=False)\n",
            "    (1): BatchNorm2d(32, eps=1e-05, momentum=0.1, affine=True, track_running_stats=True)\n",
            "  )\n",
            "  (deconv3): Sequential(\n",
            "    (0): ConvTranspose2d(32, 3, kernel_size=(4, 4), stride=(2, 2), padding=(1, 1), bias=False)\n",
            "  )\n",
            ")\n",
            "Model moved to GPU\n"
          ],
          "name": "stdout"
        }
      ]
    },
    {
      "cell_type": "markdown",
      "metadata": {
        "id": "fUTg0m2Y81CC",
        "colab_type": "text"
      },
      "source": [
        "## Discriminator and Generator Loss"
      ]
    },
    {
      "cell_type": "markdown",
      "metadata": {
        "id": "7XVr6mqW8_A6",
        "colab_type": "text"
      },
      "source": [
        "### Discriminator Loss\n",
        "* For the discriminator, the total loss is the sum of the losses for real and fake images, `d_loss = d_real_loss + d_fake_loss`.\n",
        "* The Discriminator outputs 1 for real images and 0 for fake images, so we need to set up the losses to reflect that\n",
        "\n",
        "### Generator Loss\n",
        "* The generator loss will look similar only with flipped labels. The generator's goal is to get the discriminator to think its generated images are real."
      ]
    },
    {
      "cell_type": "code",
      "metadata": {
        "id": "yPEtxVqPX0Yx",
        "colab_type": "code",
        "colab": {}
      },
      "source": [
        "def real_loss(D_out, smooth=True):\n",
        "  batch_size = D_out.size(0)\n",
        "  if smooth:\n",
        "    # smooth, real labels = 0.9\n",
        "    labels = torch.ones(batch_size)*0.9\n",
        "  else:\n",
        "    # real labels = 1\n",
        "    labels = torch.ones(batch_size)\n",
        "  \n",
        "  if train_on_gpu:\n",
        "    labels = labels.cuda()\n",
        "  \n",
        "  # Binary Crossentropy with LogitsLoss\n",
        "  criterion = nn.BCEWithLogitsLoss()\n",
        "  loss = criterion(D_out.squeeze(), labels)    \n",
        "  return loss\n",
        "\n",
        "def fake_loss(D_out):\n",
        "  batch_size = D_out.size(0)\n",
        "  labels = torch.zeros(batch_size)\n",
        "  \n",
        "  if train_on_gpu:\n",
        "    labels = labels.cuda()\n",
        "  \n",
        "  # Binary Crossentropy with LogitsLoss\n",
        "  criterion = nn.BCEWithLogitsLoss()\n",
        "  loss = criterion(D_out.squeeze(), labels)    \n",
        "  return loss"
      ],
      "execution_count": 0,
      "outputs": []
    },
    {
      "cell_type": "markdown",
      "metadata": {
        "id": "Tekd9KQxG016",
        "colab_type": "text"
      },
      "source": [
        "## Optimizers\n",
        "Define Optimizers for Generator and Discriminator"
      ]
    },
    {
      "cell_type": "code",
      "metadata": {
        "id": "ClsalEQzGvXK",
        "colab_type": "code",
        "colab": {}
      },
      "source": [
        "import torch.optim as optim\n",
        "\n",
        "# hyperparameters\n",
        "lr = 0.0001\n",
        "beta1 = 0.5\n",
        "beta2 = 0.999\n",
        "\n",
        "# optimizers\n",
        "d_optimizer = optim.Adam(D.parameters(), lr, betas=(beta1,beta2))\n",
        "g_optimizer = optim.Adam(G.parameters(), lr, betas=(beta1,beta2))"
      ],
      "execution_count": 0,
      "outputs": []
    },
    {
      "cell_type": "markdown",
      "metadata": {
        "id": "6EFN4FnSJ1fR",
        "colab_type": "text"
      },
      "source": [
        "## Training\n",
        "\n",
        "Training involves alternating between training Discriminator and Generator.\n",
        "* Train Discriminator by alternating on Real and Fake images.\n",
        "* Then the Generator, which tries to fool the Discriminator have Opposing loss function ie: by computing the Discriminator loss on fake images using Flipped labels.!"
      ]
    },
    {
      "cell_type": "code",
      "metadata": {
        "id": "BQg9Dq_aJjUJ",
        "colab_type": "code",
        "colab": {}
      },
      "source": [
        "def train(D,G, num_epochs, print_interval=50):\n",
        "  \n",
        "  samples=[]\n",
        "  losses=[]\n",
        "  \n",
        "  # Get some fixed data for sampling. These are images that are held\n",
        "  # constant throughout training, and allow us to inspect the model's performance\n",
        "  sample_size = 16\n",
        "  fixed_z = np.random.uniform(-1,1,size=(sample_size, z_size))\n",
        "  fixed_z = torch.from_numpy(fixed_z).float()\n",
        "  \n",
        "  if train_on_gpu:\n",
        "    fixed_z=fixed_z.cuda()\n",
        "    \n",
        "  for epoch in range(num_epochs):\n",
        "    # batch loop\n",
        "    for batch_i,(real_images,_) in enumerate(celeba_train_dataloader):\n",
        "      \n",
        "      batch_size = real_images.size(0)\n",
        "      \n",
        "      #################### Discriminator Training ####################\n",
        "      d_optimizer.zero_grad()\n",
        "      \n",
        "      if train_on_gpu:\n",
        "        real_images = real_images.cuda()\n",
        "      \n",
        "      # calculating the Discriminator loss on real images\n",
        "      D_real = D(real_images)\n",
        "      D_real_loss = real_loss(D_real)\n",
        "      \n",
        "      # Generating fake image\n",
        "      z = np.random.uniform(-1, 1, size=(batch_size, z_size))\n",
        "      z = torch.from_numpy(z).float()\n",
        "      if train_on_gpu:\n",
        "        z = z.cuda()\n",
        "        fake_images = G(z)\n",
        "      \n",
        "      # calculating the Discriminator loss on fake images\n",
        "      D_fake = D(fake_images)\n",
        "      D_fake_loss = fake_loss(D_fake)\n",
        "      \n",
        "      # computing total loss\n",
        "      D_loss = D_real_loss + D_fake_loss\n",
        "      \n",
        "      D_loss.backward()\n",
        "      d_optimizer.step()\n",
        "      \n",
        "      #################### Generator Training ####################\n",
        "      for i in range(2):\n",
        "        g_optimizer.zero_grad()\n",
        "\n",
        "        # Generating Fake image\n",
        "        z = np.random.uniform(-1,1,size=(batch_size, z_size))\n",
        "        z = torch.from_numpy(z).float()\n",
        "        if train_on_gpu:\n",
        "          z = z.cuda()\n",
        "        fake_images = G(z)\n",
        "\n",
        "        # calculating the Discriminator loss on fake images \n",
        "        # on flipped labels\n",
        "        D_fake = D(fake_images)\n",
        "        G_loss = real_loss(D_fake)\n",
        "\n",
        "        G_loss.backward()\n",
        "        g_optimizer.step()\n",
        "      \n",
        "      # Print some loss stats\n",
        "      if batch_i % print_interval == 0:\n",
        "        # append discriminator loss and generator loss\n",
        "        losses.append((D_loss.item(), G_loss.item()))\n",
        "        # print discriminator and generator loss\n",
        "        print('Epoch [{:5d}/{:5d}] | d_loss: {:6.4f} | g_loss: {:6.4f}'.format(\n",
        "                epoch+1, num_epochs, D_loss.item(), G_loss.item()))\n",
        "          \n",
        "      # After Each Epoch Generate Images\n",
        "      G.eval() # for Generating Images\n",
        "      sample_z = G(fixed_z)\n",
        "      samples.append(sample_z)\n",
        "      G.train()\n",
        "      \n",
        "  # Save training generator samples\n",
        "  with open('train_samples.pkl', 'wb') as f:\n",
        "      pkl.dump(samples, f)\n",
        "      \n",
        "  return losses"
      ],
      "execution_count": 0,
      "outputs": []
    },
    {
      "cell_type": "code",
      "metadata": {
        "id": "iV0OMnm5VEgG",
        "colab_type": "code",
        "outputId": "7e8e48d2-d53c-4907-f74b-11d907b1fae0",
        "colab": {
          "base_uri": "https://localhost:8080/",
          "height": 5508
        }
      },
      "source": [
        "for i in range(4):\n",
        "  num_epochs = 5\n",
        "\n",
        "  losses = train(D,G,num_epochs)"
      ],
      "execution_count": 18,
      "outputs": [
        {
          "output_type": "stream",
          "text": [
            "/usr/local/lib/python3.6/dist-packages/torch/nn/functional.py:1374: UserWarning: nn.functional.tanh is deprecated. Use torch.tanh instead.\n",
            "  warnings.warn(\"nn.functional.tanh is deprecated. Use torch.tanh instead.\")\n"
          ],
          "name": "stderr"
        },
        {
          "output_type": "stream",
          "text": [
            "Epoch [    1/    5] | d_loss: 1.5147 | g_loss: 0.6498\n",
            "Epoch [    1/    5] | d_loss: 0.7037 | g_loss: 1.5957\n",
            "Epoch [    1/    5] | d_loss: 0.8483 | g_loss: 1.4117\n",
            "Epoch [    1/    5] | d_loss: 0.8429 | g_loss: 1.6714\n",
            "Epoch [    1/    5] | d_loss: 0.9675 | g_loss: 1.1393\n",
            "Epoch [    1/    5] | d_loss: 1.0689 | g_loss: 1.0600\n",
            "Epoch [    1/    5] | d_loss: 1.0899 | g_loss: 1.0619\n",
            "Epoch [    1/    5] | d_loss: 1.1517 | g_loss: 1.0746\n",
            "Epoch [    1/    5] | d_loss: 1.1444 | g_loss: 0.9668\n",
            "Epoch [    1/    5] | d_loss: 1.3426 | g_loss: 1.0676\n",
            "Epoch [    1/    5] | d_loss: 1.4124 | g_loss: 0.9565\n",
            "Epoch [    1/    5] | d_loss: 1.3138 | g_loss: 0.9822\n",
            "Epoch [    1/    5] | d_loss: 1.2568 | g_loss: 0.9971\n",
            "Epoch [    1/    5] | d_loss: 1.2868 | g_loss: 0.9648\n",
            "Epoch [    1/    5] | d_loss: 1.3361 | g_loss: 0.8703\n",
            "Epoch [    2/    5] | d_loss: 1.3884 | g_loss: 0.7731\n",
            "Epoch [    2/    5] | d_loss: 1.3578 | g_loss: 0.8597\n",
            "Epoch [    2/    5] | d_loss: 1.3655 | g_loss: 0.8372\n",
            "Epoch [    2/    5] | d_loss: 1.3633 | g_loss: 0.7764\n",
            "Epoch [    2/    5] | d_loss: 1.4712 | g_loss: 0.7782\n",
            "Epoch [    2/    5] | d_loss: 1.3411 | g_loss: 0.8406\n",
            "Epoch [    2/    5] | d_loss: 1.3578 | g_loss: 0.8489\n",
            "Epoch [    2/    5] | d_loss: 1.3651 | g_loss: 0.8954\n",
            "Epoch [    2/    5] | d_loss: 1.4248 | g_loss: 0.7915\n",
            "Epoch [    2/    5] | d_loss: 1.3362 | g_loss: 0.8501\n",
            "Epoch [    2/    5] | d_loss: 1.2993 | g_loss: 0.8365\n",
            "Epoch [    2/    5] | d_loss: 1.3919 | g_loss: 0.7857\n",
            "Epoch [    2/    5] | d_loss: 1.4014 | g_loss: 0.7789\n",
            "Epoch [    2/    5] | d_loss: 1.3062 | g_loss: 0.8951\n",
            "Epoch [    2/    5] | d_loss: 1.3736 | g_loss: 0.8277\n",
            "Epoch [    3/    5] | d_loss: 1.3581 | g_loss: 0.8128\n",
            "Epoch [    3/    5] | d_loss: 1.3742 | g_loss: 0.7888\n",
            "Epoch [    3/    5] | d_loss: 1.2978 | g_loss: 1.1223\n",
            "Epoch [    3/    5] | d_loss: 1.4631 | g_loss: 0.7489\n",
            "Epoch [    3/    5] | d_loss: 1.4946 | g_loss: 0.7259\n",
            "Epoch [    3/    5] | d_loss: 1.3856 | g_loss: 0.8803\n",
            "Epoch [    3/    5] | d_loss: 1.3086 | g_loss: 0.9036\n",
            "Epoch [    3/    5] | d_loss: 1.3415 | g_loss: 0.8785\n",
            "Epoch [    3/    5] | d_loss: 1.4296 | g_loss: 0.7942\n",
            "Epoch [    3/    5] | d_loss: 1.3759 | g_loss: 0.8537\n",
            "Epoch [    3/    5] | d_loss: 1.2500 | g_loss: 0.7856\n",
            "Epoch [    3/    5] | d_loss: 1.3603 | g_loss: 0.7711\n",
            "Epoch [    3/    5] | d_loss: 1.3804 | g_loss: 0.7365\n",
            "Epoch [    3/    5] | d_loss: 1.3894 | g_loss: 0.8398\n",
            "Epoch [    3/    5] | d_loss: 1.4060 | g_loss: 0.7954\n",
            "Epoch [    4/    5] | d_loss: 1.4426 | g_loss: 0.8358\n",
            "Epoch [    4/    5] | d_loss: 1.3510 | g_loss: 0.7262\n",
            "Epoch [    4/    5] | d_loss: 1.4112 | g_loss: 0.8777\n",
            "Epoch [    4/    5] | d_loss: 1.4005 | g_loss: 0.8393\n",
            "Epoch [    4/    5] | d_loss: 1.4417 | g_loss: 0.7134\n",
            "Epoch [    4/    5] | d_loss: 1.3410 | g_loss: 0.7969\n",
            "Epoch [    4/    5] | d_loss: 1.4378 | g_loss: 0.8567\n",
            "Epoch [    4/    5] | d_loss: 1.3838 | g_loss: 0.8090\n",
            "Epoch [    4/    5] | d_loss: 1.4765 | g_loss: 0.7779\n",
            "Epoch [    4/    5] | d_loss: 1.4157 | g_loss: 0.8333\n",
            "Epoch [    4/    5] | d_loss: 1.3017 | g_loss: 0.8421\n",
            "Epoch [    4/    5] | d_loss: 1.3776 | g_loss: 0.8849\n",
            "Epoch [    4/    5] | d_loss: 1.3505 | g_loss: 0.8102\n",
            "Epoch [    4/    5] | d_loss: 1.3464 | g_loss: 0.8225\n",
            "Epoch [    4/    5] | d_loss: 1.3458 | g_loss: 0.7838\n",
            "Epoch [    5/    5] | d_loss: 1.3906 | g_loss: 0.7850\n",
            "Epoch [    5/    5] | d_loss: 1.4138 | g_loss: 0.7853\n",
            "Epoch [    5/    5] | d_loss: 1.3286 | g_loss: 0.8476\n",
            "Epoch [    5/    5] | d_loss: 1.3719 | g_loss: 0.8647\n",
            "Epoch [    5/    5] | d_loss: 1.4369 | g_loss: 0.6971\n",
            "Epoch [    5/    5] | d_loss: 1.3686 | g_loss: 0.8020\n",
            "Epoch [    5/    5] | d_loss: 1.3735 | g_loss: 0.8189\n",
            "Epoch [    5/    5] | d_loss: 1.3674 | g_loss: 0.8233\n",
            "Epoch [    5/    5] | d_loss: 1.3695 | g_loss: 0.8156\n",
            "Epoch [    5/    5] | d_loss: 1.3402 | g_loss: 0.8052\n",
            "Epoch [    5/    5] | d_loss: 1.3477 | g_loss: 0.8307\n",
            "Epoch [    5/    5] | d_loss: 1.3791 | g_loss: 0.7939\n",
            "Epoch [    5/    5] | d_loss: 1.4304 | g_loss: 0.8296\n",
            "Epoch [    5/    5] | d_loss: 1.4139 | g_loss: 0.8084\n",
            "Epoch [    5/    5] | d_loss: 1.3661 | g_loss: 0.7465\n",
            "Epoch [    1/    5] | d_loss: 1.4390 | g_loss: 0.7868\n",
            "Epoch [    1/    5] | d_loss: 1.3912 | g_loss: 0.8165\n",
            "Epoch [    1/    5] | d_loss: 1.4003 | g_loss: 0.8214\n",
            "Epoch [    1/    5] | d_loss: 1.3833 | g_loss: 0.7966\n",
            "Epoch [    1/    5] | d_loss: 1.4232 | g_loss: 0.7545\n",
            "Epoch [    1/    5] | d_loss: 1.3441 | g_loss: 0.7682\n",
            "Epoch [    1/    5] | d_loss: 1.3795 | g_loss: 0.7914\n",
            "Epoch [    1/    5] | d_loss: 1.3697 | g_loss: 0.7842\n",
            "Epoch [    1/    5] | d_loss: 1.3966 | g_loss: 0.7864\n",
            "Epoch [    1/    5] | d_loss: 1.3669 | g_loss: 0.7760\n",
            "Epoch [    1/    5] | d_loss: 1.3579 | g_loss: 0.7821\n",
            "Epoch [    1/    5] | d_loss: 1.4043 | g_loss: 0.8169\n",
            "Epoch [    1/    5] | d_loss: 1.4089 | g_loss: 0.7919\n",
            "Epoch [    1/    5] | d_loss: 1.3651 | g_loss: 0.8231\n",
            "Epoch [    1/    5] | d_loss: 1.3554 | g_loss: 0.7812\n",
            "Epoch [    2/    5] | d_loss: 1.3737 | g_loss: 0.8257\n",
            "Epoch [    2/    5] | d_loss: 1.3663 | g_loss: 0.8395\n",
            "Epoch [    2/    5] | d_loss: 1.3597 | g_loss: 0.8401\n",
            "Epoch [    2/    5] | d_loss: 1.3527 | g_loss: 0.8276\n",
            "Epoch [    2/    5] | d_loss: 1.4286 | g_loss: 0.7787\n",
            "Epoch [    2/    5] | d_loss: 1.3836 | g_loss: 0.8233\n",
            "Epoch [    2/    5] | d_loss: 1.3648 | g_loss: 0.8351\n",
            "Epoch [    2/    5] | d_loss: 1.3834 | g_loss: 0.8459\n",
            "Epoch [    2/    5] | d_loss: 1.3851 | g_loss: 0.7723\n",
            "Epoch [    2/    5] | d_loss: 1.3742 | g_loss: 0.8144\n",
            "Epoch [    2/    5] | d_loss: 1.3419 | g_loss: 0.7685\n",
            "Epoch [    2/    5] | d_loss: 1.3791 | g_loss: 0.8372\n",
            "Epoch [    2/    5] | d_loss: 1.3760 | g_loss: 0.8188\n",
            "Epoch [    2/    5] | d_loss: 1.3690 | g_loss: 0.8367\n",
            "Epoch [    2/    5] | d_loss: 1.3900 | g_loss: 0.7932\n",
            "Epoch [    3/    5] | d_loss: 1.4062 | g_loss: 0.8150\n",
            "Epoch [    3/    5] | d_loss: 1.3680 | g_loss: 0.8411\n",
            "Epoch [    3/    5] | d_loss: 1.3712 | g_loss: 0.8360\n",
            "Epoch [    3/    5] | d_loss: 1.3613 | g_loss: 0.8186\n",
            "Epoch [    3/    5] | d_loss: 1.3781 | g_loss: 0.7794\n",
            "Epoch [    3/    5] | d_loss: 1.3622 | g_loss: 0.8004\n",
            "Epoch [    3/    5] | d_loss: 1.3541 | g_loss: 0.8438\n",
            "Epoch [    3/    5] | d_loss: 1.3548 | g_loss: 0.8589\n",
            "Epoch [    3/    5] | d_loss: 1.3548 | g_loss: 0.7674\n",
            "Epoch [    3/    5] | d_loss: 1.3431 | g_loss: 0.8232\n",
            "Epoch [    3/    5] | d_loss: 1.3342 | g_loss: 0.8173\n",
            "Epoch [    3/    5] | d_loss: 1.3673 | g_loss: 0.8939\n",
            "Epoch [    3/    5] | d_loss: 1.3472 | g_loss: 0.8399\n",
            "Epoch [    3/    5] | d_loss: 1.3284 | g_loss: 0.8497\n",
            "Epoch [    3/    5] | d_loss: 1.3459 | g_loss: 0.8003\n",
            "Epoch [    4/    5] | d_loss: 1.3733 | g_loss: 0.8059\n",
            "Epoch [    4/    5] | d_loss: 1.3445 | g_loss: 0.8686\n",
            "Epoch [    4/    5] | d_loss: 1.3393 | g_loss: 0.8516\n",
            "Epoch [    4/    5] | d_loss: 1.3559 | g_loss: 0.8226\n",
            "Epoch [    4/    5] | d_loss: 1.3867 | g_loss: 0.8279\n",
            "Epoch [    4/    5] | d_loss: 1.3375 | g_loss: 0.8510\n",
            "Epoch [    4/    5] | d_loss: 1.3485 | g_loss: 0.8317\n",
            "Epoch [    4/    5] | d_loss: 1.3666 | g_loss: 0.8647\n",
            "Epoch [    4/    5] | d_loss: 1.3279 | g_loss: 0.7349\n",
            "Epoch [    4/    5] | d_loss: 1.3330 | g_loss: 0.8276\n",
            "Epoch [    4/    5] | d_loss: 1.3138 | g_loss: 0.7871\n",
            "Epoch [    4/    5] | d_loss: 1.3629 | g_loss: 0.8560\n",
            "Epoch [    4/    5] | d_loss: 1.3572 | g_loss: 0.8898\n",
            "Epoch [    4/    5] | d_loss: 1.3414 | g_loss: 0.8705\n",
            "Epoch [    4/    5] | d_loss: 1.3359 | g_loss: 0.8185\n",
            "Epoch [    5/    5] | d_loss: 1.3229 | g_loss: 0.8030\n",
            "Epoch [    5/    5] | d_loss: 1.3327 | g_loss: 0.8668\n",
            "Epoch [    5/    5] | d_loss: 1.3748 | g_loss: 0.8639\n",
            "Epoch [    5/    5] | d_loss: 1.3183 | g_loss: 0.7856\n",
            "Epoch [    5/    5] | d_loss: 1.3731 | g_loss: 0.8008\n",
            "Epoch [    5/    5] | d_loss: 1.3374 | g_loss: 0.8604\n",
            "Epoch [    5/    5] | d_loss: 1.3723 | g_loss: 0.7998\n",
            "Epoch [    5/    5] | d_loss: 1.3454 | g_loss: 0.8773\n",
            "Epoch [    5/    5] | d_loss: 1.3135 | g_loss: 0.7840\n",
            "Epoch [    5/    5] | d_loss: 1.3480 | g_loss: 0.8831\n",
            "Epoch [    5/    5] | d_loss: 1.3097 | g_loss: 0.7947\n",
            "Epoch [    5/    5] | d_loss: 1.3117 | g_loss: 0.8709\n",
            "Epoch [    5/    5] | d_loss: 1.2663 | g_loss: 0.9097\n",
            "Epoch [    5/    5] | d_loss: 1.3265 | g_loss: 0.7936\n",
            "Epoch [    5/    5] | d_loss: 1.3333 | g_loss: 0.8444\n",
            "Epoch [    1/    5] | d_loss: 1.3480 | g_loss: 0.8463\n",
            "Epoch [    1/    5] | d_loss: 1.3180 | g_loss: 0.8171\n",
            "Epoch [    1/    5] | d_loss: 1.3271 | g_loss: 0.8415\n",
            "Epoch [    1/    5] | d_loss: 1.3221 | g_loss: 0.8098\n",
            "Epoch [    1/    5] | d_loss: 1.4108 | g_loss: 0.8064\n",
            "Epoch [    1/    5] | d_loss: 1.3110 | g_loss: 0.8202\n",
            "Epoch [    1/    5] | d_loss: 1.3082 | g_loss: 0.8766\n",
            "Epoch [    1/    5] | d_loss: 1.3027 | g_loss: 0.8626\n",
            "Epoch [    1/    5] | d_loss: 1.3341 | g_loss: 0.8135\n",
            "Epoch [    1/    5] | d_loss: 1.3548 | g_loss: 0.8585\n",
            "Epoch [    1/    5] | d_loss: 1.3058 | g_loss: 0.8248\n",
            "Epoch [    1/    5] | d_loss: 1.3392 | g_loss: 0.8456\n",
            "Epoch [    1/    5] | d_loss: 1.3389 | g_loss: 0.9206\n",
            "Epoch [    1/    5] | d_loss: 1.3215 | g_loss: 0.8136\n",
            "Epoch [    1/    5] | d_loss: 1.3022 | g_loss: 0.8838\n",
            "Epoch [    2/    5] | d_loss: 1.2865 | g_loss: 0.8523\n",
            "Epoch [    2/    5] | d_loss: 1.2997 | g_loss: 0.8500\n",
            "Epoch [    2/    5] | d_loss: 1.2654 | g_loss: 0.8850\n",
            "Epoch [    2/    5] | d_loss: 1.3128 | g_loss: 0.8249\n",
            "Epoch [    2/    5] | d_loss: 1.3940 | g_loss: 0.8291\n",
            "Epoch [    2/    5] | d_loss: 1.3519 | g_loss: 0.8927\n",
            "Epoch [    2/    5] | d_loss: 1.2959 | g_loss: 0.9137\n",
            "Epoch [    2/    5] | d_loss: 1.2626 | g_loss: 0.9123\n",
            "Epoch [    2/    5] | d_loss: 1.3306 | g_loss: 0.8340\n",
            "Epoch [    2/    5] | d_loss: 1.2626 | g_loss: 0.8724\n",
            "Epoch [    2/    5] | d_loss: 1.3047 | g_loss: 0.9198\n",
            "Epoch [    2/    5] | d_loss: 1.2642 | g_loss: 0.9290\n",
            "Epoch [    2/    5] | d_loss: 1.3008 | g_loss: 0.9245\n",
            "Epoch [    2/    5] | d_loss: 1.2705 | g_loss: 0.8678\n",
            "Epoch [    2/    5] | d_loss: 1.3000 | g_loss: 0.8949\n",
            "Epoch [    3/    5] | d_loss: 1.3003 | g_loss: 0.8636\n",
            "Epoch [    3/    5] | d_loss: 1.2692 | g_loss: 0.9102\n",
            "Epoch [    3/    5] | d_loss: 1.2625 | g_loss: 0.9684\n",
            "Epoch [    3/    5] | d_loss: 1.2736 | g_loss: 0.8718\n",
            "Epoch [    3/    5] | d_loss: 1.3302 | g_loss: 0.7668\n",
            "Epoch [    3/    5] | d_loss: 1.2735 | g_loss: 0.8879\n",
            "Epoch [    3/    5] | d_loss: 1.2723 | g_loss: 0.9569\n",
            "Epoch [    3/    5] | d_loss: 1.2446 | g_loss: 0.9217\n",
            "Epoch [    3/    5] | d_loss: 1.3575 | g_loss: 0.9697\n",
            "Epoch [    3/    5] | d_loss: 1.2716 | g_loss: 0.9337\n",
            "Epoch [    3/    5] | d_loss: 1.2266 | g_loss: 0.8856\n",
            "Epoch [    3/    5] | d_loss: 1.2046 | g_loss: 0.9203\n",
            "Epoch [    3/    5] | d_loss: 1.2296 | g_loss: 0.9487\n",
            "Epoch [    3/    5] | d_loss: 1.2093 | g_loss: 0.7665\n",
            "Epoch [    3/    5] | d_loss: 1.2688 | g_loss: 0.9763\n",
            "Epoch [    4/    5] | d_loss: 1.2800 | g_loss: 0.9879\n",
            "Epoch [    4/    5] | d_loss: 1.2236 | g_loss: 0.9594\n",
            "Epoch [    4/    5] | d_loss: 1.3056 | g_loss: 0.8818\n",
            "Epoch [    4/    5] | d_loss: 1.2968 | g_loss: 0.9805\n",
            "Epoch [    4/    5] | d_loss: 1.2874 | g_loss: 0.8108\n",
            "Epoch [    4/    5] | d_loss: 1.2471 | g_loss: 1.0957\n",
            "Epoch [    4/    5] | d_loss: 1.2078 | g_loss: 0.9621\n",
            "Epoch [    4/    5] | d_loss: 1.1943 | g_loss: 0.9726\n",
            "Epoch [    4/    5] | d_loss: 1.2433 | g_loss: 0.8155\n",
            "Epoch [    4/    5] | d_loss: 1.3307 | g_loss: 1.0887\n",
            "Epoch [    4/    5] | d_loss: 1.2195 | g_loss: 0.8077\n",
            "Epoch [    4/    5] | d_loss: 1.2298 | g_loss: 0.9929\n",
            "Epoch [    4/    5] | d_loss: 1.2381 | g_loss: 1.0350\n",
            "Epoch [    4/    5] | d_loss: 1.2039 | g_loss: 0.8392\n",
            "Epoch [    4/    5] | d_loss: 1.2149 | g_loss: 1.1351\n",
            "Epoch [    5/    5] | d_loss: 1.2456 | g_loss: 0.9961\n",
            "Epoch [    5/    5] | d_loss: 1.2322 | g_loss: 1.0136\n",
            "Epoch [    5/    5] | d_loss: 1.1651 | g_loss: 1.0210\n",
            "Epoch [    5/    5] | d_loss: 1.1757 | g_loss: 0.9780\n",
            "Epoch [    5/    5] | d_loss: 1.2008 | g_loss: 0.8929\n",
            "Epoch [    5/    5] | d_loss: 1.1686 | g_loss: 0.9279\n",
            "Epoch [    5/    5] | d_loss: 1.1784 | g_loss: 0.9949\n",
            "Epoch [    5/    5] | d_loss: 1.1476 | g_loss: 0.9815\n",
            "Epoch [    5/    5] | d_loss: 1.2497 | g_loss: 1.1323\n",
            "Epoch [    5/    5] | d_loss: 1.2199 | g_loss: 1.0053\n",
            "Epoch [    5/    5] | d_loss: 1.1935 | g_loss: 0.8833\n",
            "Epoch [    5/    5] | d_loss: 1.2932 | g_loss: 0.9103\n",
            "Epoch [    5/    5] | d_loss: 1.1451 | g_loss: 0.9965\n",
            "Epoch [    5/    5] | d_loss: 1.1761 | g_loss: 0.9769\n",
            "Epoch [    5/    5] | d_loss: 1.2178 | g_loss: 0.9832\n",
            "Epoch [    1/    5] | d_loss: 1.2558 | g_loss: 0.8585\n",
            "Epoch [    1/    5] | d_loss: 1.1781 | g_loss: 1.0425\n",
            "Epoch [    1/    5] | d_loss: 1.1846 | g_loss: 1.1579\n",
            "Epoch [    1/    5] | d_loss: 1.1468 | g_loss: 1.0110\n",
            "Epoch [    1/    5] | d_loss: 1.2036 | g_loss: 0.8556\n",
            "Epoch [    1/    5] | d_loss: 1.1756 | g_loss: 1.0616\n",
            "Epoch [    1/    5] | d_loss: 1.1264 | g_loss: 1.0470\n",
            "Epoch [    1/    5] | d_loss: 1.0645 | g_loss: 1.0787\n",
            "Epoch [    1/    5] | d_loss: 1.4933 | g_loss: 1.6557\n",
            "Epoch [    1/    5] | d_loss: 1.1808 | g_loss: 1.0454\n",
            "Epoch [    1/    5] | d_loss: 1.1820 | g_loss: 1.0700\n",
            "Epoch [    1/    5] | d_loss: 1.1267 | g_loss: 1.0927\n",
            "Epoch [    1/    5] | d_loss: 1.1570 | g_loss: 0.9211\n",
            "Epoch [    1/    5] | d_loss: 1.1067 | g_loss: 0.9394\n",
            "Epoch [    1/    5] | d_loss: 1.1240 | g_loss: 1.1577\n",
            "Epoch [    2/    5] | d_loss: 1.1891 | g_loss: 1.1706\n",
            "Epoch [    2/    5] | d_loss: 1.1373 | g_loss: 1.0154\n",
            "Epoch [    2/    5] | d_loss: 1.1038 | g_loss: 1.1985\n",
            "Epoch [    2/    5] | d_loss: 1.0626 | g_loss: 0.9856\n",
            "Epoch [    2/    5] | d_loss: 1.1826 | g_loss: 0.8139\n",
            "Epoch [    2/    5] | d_loss: 1.0569 | g_loss: 1.2713\n",
            "Epoch [    2/    5] | d_loss: 1.1324 | g_loss: 0.8904\n",
            "Epoch [    2/    5] | d_loss: 1.0819 | g_loss: 1.0412\n",
            "Epoch [    2/    5] | d_loss: 1.1804 | g_loss: 1.1035\n",
            "Epoch [    2/    5] | d_loss: 1.4654 | g_loss: 0.9972\n",
            "Epoch [    2/    5] | d_loss: 1.1172 | g_loss: 0.9824\n",
            "Epoch [    2/    5] | d_loss: 1.0834 | g_loss: 1.0037\n",
            "Epoch [    2/    5] | d_loss: 1.1478 | g_loss: 1.2069\n",
            "Epoch [    2/    5] | d_loss: 1.1052 | g_loss: 0.9352\n",
            "Epoch [    2/    5] | d_loss: 1.1710 | g_loss: 1.3207\n",
            "Epoch [    3/    5] | d_loss: 1.2331 | g_loss: 1.0970\n",
            "Epoch [    3/    5] | d_loss: 1.0750 | g_loss: 1.0815\n",
            "Epoch [    3/    5] | d_loss: 1.0990 | g_loss: 1.2892\n",
            "Epoch [    3/    5] | d_loss: 1.0565 | g_loss: 1.0109\n",
            "Epoch [    3/    5] | d_loss: 1.2696 | g_loss: 0.8061\n",
            "Epoch [    3/    5] | d_loss: 1.0858 | g_loss: 1.0255\n",
            "Epoch [    3/    5] | d_loss: 1.0361 | g_loss: 1.0398\n",
            "Epoch [    3/    5] | d_loss: 1.0664 | g_loss: 1.2805\n",
            "Epoch [    3/    5] | d_loss: 1.1135 | g_loss: 1.0645\n",
            "Epoch [    3/    5] | d_loss: 1.0640 | g_loss: 1.1383\n",
            "Epoch [    3/    5] | d_loss: 1.0882 | g_loss: 1.0949\n",
            "Epoch [    3/    5] | d_loss: 1.2650 | g_loss: 0.9288\n",
            "Epoch [    3/    5] | d_loss: 1.0940 | g_loss: 1.1489\n",
            "Epoch [    3/    5] | d_loss: 1.0555 | g_loss: 1.2722\n",
            "Epoch [    3/    5] | d_loss: 1.0530 | g_loss: 1.2082\n",
            "Epoch [    4/    5] | d_loss: 1.1896 | g_loss: 1.3418\n",
            "Epoch [    4/    5] | d_loss: 0.9941 | g_loss: 1.0610\n",
            "Epoch [    4/    5] | d_loss: 1.0248 | g_loss: 1.0328\n",
            "Epoch [    4/    5] | d_loss: 1.0425 | g_loss: 1.2570\n",
            "Epoch [    4/    5] | d_loss: 2.2272 | g_loss: 0.7256\n",
            "Epoch [    4/    5] | d_loss: 1.0183 | g_loss: 1.1507\n",
            "Epoch [    4/    5] | d_loss: 1.0640 | g_loss: 1.0510\n",
            "Epoch [    4/    5] | d_loss: 0.9983 | g_loss: 1.2124\n",
            "Epoch [    4/    5] | d_loss: 1.0811 | g_loss: 1.1205\n",
            "Epoch [    4/    5] | d_loss: 1.0593 | g_loss: 0.9293\n",
            "Epoch [    4/    5] | d_loss: 1.0018 | g_loss: 1.0990\n",
            "Epoch [    4/    5] | d_loss: 0.9538 | g_loss: 1.1971\n",
            "Epoch [    4/    5] | d_loss: 1.0625 | g_loss: 1.2414\n",
            "Epoch [    4/    5] | d_loss: 0.9840 | g_loss: 1.2959\n",
            "Epoch [    4/    5] | d_loss: 1.5008 | g_loss: 3.5524\n",
            "Epoch [    5/    5] | d_loss: 1.4995 | g_loss: 0.9392\n",
            "Epoch [    5/    5] | d_loss: 0.9847 | g_loss: 1.0821\n",
            "Epoch [    5/    5] | d_loss: 1.0285 | g_loss: 1.3189\n",
            "Epoch [    5/    5] | d_loss: 0.9758 | g_loss: 1.1566\n",
            "Epoch [    5/    5] | d_loss: 1.0084 | g_loss: 0.9321\n",
            "Epoch [    5/    5] | d_loss: 0.9223 | g_loss: 1.1210\n",
            "Epoch [    5/    5] | d_loss: 0.9085 | g_loss: 1.0563\n",
            "Epoch [    5/    5] | d_loss: 0.9755 | g_loss: 1.4606\n",
            "Epoch [    5/    5] | d_loss: 1.2039 | g_loss: 1.5792\n",
            "Epoch [    5/    5] | d_loss: 1.0906 | g_loss: 1.3794\n",
            "Epoch [    5/    5] | d_loss: 0.9271 | g_loss: 0.9405\n",
            "Epoch [    5/    5] | d_loss: 0.9153 | g_loss: 1.1027\n",
            "Epoch [    5/    5] | d_loss: 0.9518 | g_loss: 1.3008\n",
            "Epoch [    5/    5] | d_loss: 0.9900 | g_loss: 1.1066\n",
            "Epoch [    5/    5] | d_loss: 0.9710 | g_loss: 1.2052\n"
          ],
          "name": "stdout"
        }
      ]
    },
    {
      "cell_type": "markdown",
      "metadata": {
        "id": "nFSlMbeYUK8z",
        "colab_type": "text"
      },
      "source": [
        "# Training Loss\n",
        "Plotting the loss of Discriminator and Generator "
      ]
    },
    {
      "cell_type": "code",
      "metadata": {
        "id": "13GY2TUyUcmu",
        "colab_type": "code",
        "colab": {
          "base_uri": "https://localhost:8080/",
          "height": 299
        },
        "outputId": "b887d696-ef98-48e4-81bd-b0849b71fea8"
      },
      "source": [
        "fig, ax = plt.subplots()\n",
        "losses = np.array(losses)\n",
        "plt.plot(losses.T[0], label='Discriminator', alpha=0.5)\n",
        "plt.plot(losses.T[1], label='Generator', alpha=0.5)\n",
        "plt.title(\"Training Losses\")\n",
        "plt.legend()"
      ],
      "execution_count": 19,
      "outputs": [
        {
          "output_type": "execute_result",
          "data": {
            "text/plain": [
              "<matplotlib.legend.Legend at 0x7f5f6052a710>"
            ]
          },
          "metadata": {
            "tags": []
          },
          "execution_count": 19
        },
        {
          "output_type": "display_data",
          "data": {
            "image/png": "[encoded data removed]",
            "text/plain": [
              "<Figure size 432x288 with 1 Axes>"
            ]
          },
          "metadata": {
            "tags": []
          }
        }
      ]
    },
    {
      "cell_type": "markdown",
      "metadata": {
        "id": "nGyfOOPDUeqd",
        "colab_type": "text"
      },
      "source": [
        "# Generating Samples from Training\n",
        "view the sample images generated during training"
      ]
    },
    {
      "cell_type": "code",
      "metadata": {
        "id": "jM0Es0whVsCw",
        "colab_type": "code",
        "colab": {}
      },
      "source": [
        "# helper function for viewing a list of passed in sample images\n",
        "def view_samples(epoch, samples):\n",
        "    fig, axes = plt.subplots(figsize=(16,4), nrows=2, ncols=8, sharey=True, sharex=True)\n",
        "    for ax, img in zip(axes.flatten(), samples[epoch]):\n",
        "        img = img.detach().cpu().numpy()\n",
        "        img = np.transpose(img, (1, 2, 0))\n",
        "        img = ((img + 1)*255 / (2)).astype(np.uint8)\n",
        "        ax.xaxis.set_visible(False)\n",
        "        ax.yaxis.set_visible(False)\n",
        "        im = ax.imshow(img.reshape((32,32,3)))"
      ],
      "execution_count": 0,
      "outputs": []
    },
    {
      "cell_type": "code",
      "metadata": {
        "id": "NnHlv_7ZVzzG",
        "colab_type": "code",
        "colab": {}
      },
      "source": [
        "# Load samples from generator, taken while training\n",
        "with open('train_samples.pkl', 'rb') as f:\n",
        "    samples = pkl.load(f)"
      ],
      "execution_count": 0,
      "outputs": []
    },
    {
      "cell_type": "code",
      "metadata": {
        "id": "pqTEJsCnV274",
        "colab_type": "code",
        "colab": {
          "base_uri": "https://localhost:8080/",
          "height": 245
        },
        "outputId": "c8bf5a6a-74b9-461f-af77-e79e384226b0"
      },
      "source": [
        "_ = view_samples(-1, samples)"
      ],
      "execution_count": 22,
      "outputs": [
        {
          "output_type": "display_data",
          "data": {
            "image/png": "[encoded data removed]",
            "text/plain": [
              "<Figure size 1152x288 with 16 Axes>"
            ]
          },
          "metadata": {
            "tags": []
          }
        }
      ]
    },
    {
      "cell_type": "code",
      "metadata": {
        "id": "j7uq2KuElMqd",
        "colab_type": "code",
        "colab": {}
      },
      "source": [
        "# END"
      ],
      "execution_count": 0,
      "outputs": []
    }
  ]
}